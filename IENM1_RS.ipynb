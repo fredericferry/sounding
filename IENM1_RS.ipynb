{
 "cells": [
  {
   "cell_type": "markdown",
   "metadata": {},
   "source": [
    "\n",
    "# Analyse de radiosondage sur émagramme\n",
    "\n",
    "**Auteur : Frédéric FERRY (ENM/C3M) - Novembre 2021**\n",
    "\n",
    "En météorologie, on représente l’état de l’atmosphère (pression, température, humidité) et les transformations subies par les particules d’air sur des diagrammes thermodynamiques. Plusieurs diagrammes sont utilisés par les différents services météorologiques. Le téphigramme est utilisé en particulier en Grande-Bretagne et au Canada. On s'intéresse ici à l’émagramme ou plus précisément à l’émagramme oblique qui a été développé aux Etats-Unis (\"Skew-T diagram\").\n",
    "\n",
    "- On utilisera ici les fonctionnalités du module Metpy : https://unidata.github.io/MetPy/latest/index.html.\n",
    "- Pour la lecture de fichier texte on utilisera le module pandas : https://pandas.pydata.org/"
   ]
  },
  {
   "cell_type": "raw",
   "metadata": {},
   "source": [
    "Chargement des modules."
   ]
  },
  {
   "cell_type": "code",
   "execution_count": null,
   "metadata": {},
   "outputs": [],
   "source": [
    "%matplotlib inline\n",
    "\n",
    "import matplotlib.pyplot as plt\n",
    "from mpl_toolkits.axes_grid1.inset_locator import inset_axes\n",
    "import matplotlib.gridspec as gridspec\n",
    "\n",
    "import numpy as np\n",
    "import pandas as pd\n",
    "\n",
    "import metpy.calc as mpcalc\n",
    "from metpy.plots import SkewT, Hodograph\n",
    "from metpy.units import units\n",
    "from metpy.plots import colortables\n",
    "\n",
    "import warnings\n",
    "warnings.filterwarnings(\"ignore\")"
   ]
  },
  {
   "cell_type": "markdown",
   "metadata": {},
   "source": [
    "\n",
    "# Préambule 1 : atmosphère standard"
   ]
  },
  {
   "cell_type": "markdown",
   "metadata": {},
   "source": [
    "<div class=\"alert alert-warning\">\n",
    "<b>Coder la fonction de calcul de l'altitude à partir de la pression en atmosphère standard (OACI) : </b>\n",
    "<br>\n",
    "$$z = \\frac{T_0}{\\Gamma}[1-\\frac{p}{p_0}^\\frac{R\\Gamma}{g}]$$\n",
    "    \n",
    "<br>\n",
    "\n",
    "$$T_0=288 K$$\n",
    "$$p_0=1013.25 hPa$$\n",
    "$$g=9.8 m.s^{−2}$$\n",
    "$$R_d=287 J.kg^{−1}.K^{−1}$$\n",
    "$$\\Gamma=0.0065 K.m^{−1}$$\n",
    "\n",
    "</div>"
   ]
  },
  {
   "cell_type": "code",
   "execution_count": null,
   "metadata": {},
   "outputs": [],
   "source": [
    "g = 9.8  # acceleration due to gravity\n",
    "Rd = 287  # gas constant for dry air\n",
    "gamma = 0.0065 # K/m\n",
    "T0 = 288  # reference temperature in Kelvin\n",
    "p0 = 1013.25  # reference surface pressure in hPa\n",
    "\n",
    "def std_atm(pres):\n",
    "    return"
   ]
  },
  {
   "cell_type": "raw",
   "metadata": {},
   "source": [
    "Vérification."
   ]
  },
  {
   "cell_type": "code",
   "execution_count": null,
   "metadata": {},
   "outputs": [],
   "source": [
    "pres=np.linspace(10,1000,100)\n",
    "alt=std_atm(pres)\n",
    "print('Pression (hPa)')\n",
    "print(pres)\n",
    "print('Altitudes OACI (m)')\n",
    "print(alt)\n",
    "\n",
    "fig = plt.figure(figsize=(6, 8))\n",
    "plt.plot(pres, alt)\n",
    "plt.grid()\n",
    "plt.xlabel('Pression (hPa)')\n",
    "plt.ylabel('Altitude (m)')\n",
    "plt.title('Atmosphère standard')\n",
    "plt.show()\n",
    "\n",
    "fig.savefig('OACI.png')"
   ]
  },
  {
   "cell_type": "markdown",
   "metadata": {},
   "source": [
    "\n",
    "# Préambule 2 : loi de Laplace et réduction de la pression au niveau de la mer"
   ]
  },
  {
   "cell_type": "markdown",
   "metadata": {},
   "source": [
    "$$z_{2} - z_{1}= \\frac{R_{d} \\bar T_{v}}{g}ln\\left(\\frac{p_{1}}{p_{2}}\\right)$$"
   ]
  },
  {
   "cell_type": "markdown",
   "metadata": {},
   "source": [
    "<div class=\"alert alert-warning\">\n",
    "    \n",
    "<b>Coder la fonction de calcul de la température virtuelle moyenne entre une station et le niveau de la mer connaissant l'altitude et la température virtuelle de la station :</b>\n",
    "\n",
    "$$\\bar T_{v} = \\frac{1}{2}(T_{v}{mer}+T_{v}{station})= T_{v}{station} +\\frac{\\Gamma z}{2}$$\n",
    "\n",
    "<br>\n",
    "    \n",
    "<b>Coder la fonction de réduction de la pression au niveau de la mer connaissant l'altitude et la pression de la station et la température virtuelle moyenne entre la station et le niveau de la mer :</b>\n",
    "\n",
    "$$P_{mer} = P_{station} exp\\left(\\frac{g z}{R_d\\bar T_{v}}\\right)$$\n",
    "\n",
    "<br>\n",
    "\n",
    "$$g=9.8 m.s^{−2}$$\n",
    "$$R_d=287 J.kg^{−1}.K^{−1}$$\n",
    "$$\\Gamma=0.0065 K.m^{−1}$$\n",
    "\n",
    "</div>"
   ]
  },
  {
   "cell_type": "code",
   "execution_count": null,
   "metadata": {},
   "outputs": [],
   "source": [
    "g = 9.8  # acceleration due to gravity\n",
    "Rd = 287  # gas constant for dry air\n",
    "gamma = 0.0065 # K/m\n",
    "\n",
    "def Tvbar(Tv, z):\n",
    "    return\n",
    "\n",
    "def Pmer(z, p_stat, Tvbar):\n",
    "    return"
   ]
  },
  {
   "cell_type": "raw",
   "metadata": {},
   "source": [
    "Vérification avec le calcul de la Pmer pour une station située à une altitude de 390m, pression de 910hPa et température virtuelle de 296K."
   ]
  },
  {
   "cell_type": "code",
   "execution_count": null,
   "metadata": {},
   "outputs": [],
   "source": [
    "z=390\n",
    "p_stat=910\n",
    "Tv=296\n",
    "\n",
    "Tvbar=Tvbar(Tv,z)\n",
    "Pmer=Pmer(z,p_stat,Tvbar)\n",
    "\n",
    "print('Température virtuelle moyenne de la couche : ', Tvbar)\n",
    "print('Pression réduite au niveau de la mer : ', Pmer)"
   ]
  },
  {
   "cell_type": "markdown",
   "metadata": {},
   "source": [
    "# Ouverture du fichier du radiosondage"
   ]
  },
  {
   "cell_type": "raw",
   "metadata": {},
   "source": [
    "Ouverture du fichier de départ (sounding.txt) avec pandas. On ne lit que les données de pression (p) température (T) et température du point de rosée (Td)."
   ]
  },
  {
   "cell_type": "code",
   "execution_count": null,
   "metadata": {},
   "outputs": [],
   "source": [
    "col_names = ['pressure', 'temperature', 'dewpoint']\n",
    "df = pd.read_fwf('sounding.txt',skiprows=4, usecols=[0, 1, 2], names=col_names)\n",
    "df = df.dropna(subset=('temperature', 'dewpoint'), how='all').reset_index(drop=True)\n",
    "\n",
    "p = df['pressure'].values * units.hPa\n",
    "T = df['temperature'].values * units.degC\n",
    "Td = df['dewpoint'].values * units.degC\n",
    "\n",
    "print(df)"
   ]
  },
  {
   "cell_type": "markdown",
   "metadata": {},
   "source": [
    "# Epaisseur du sondage"
   ]
  },
  {
   "cell_type": "markdown",
   "metadata": {},
   "source": [
    "<div class=\"alert alert-warning\">\n",
    "<b>Coder la fonction de calcul de l'épaisseur du sondage : </b>\n",
    "<br>\n",
    "$$\\Delta Z=Z_2 - Z_1 = -\\frac{R_d}{g} \\int_{p_1}^{p_2} T_v d\\ln p$$\n",
    "<br> On assimilera $T_v$ à $T$\n",
    "<br> On utilisera la fonction d'intégration trapz de numpy : https://numpy.org/doc/stable/reference/generated/numpy.trapz.html\n",
    "\n",
    "</div>"
   ]
  },
  {
   "cell_type": "code",
   "execution_count": null,
   "metadata": {},
   "outputs": [],
   "source": [
    "def deltaz(T,p):\n",
    "    return"
   ]
  },
  {
   "cell_type": "raw",
   "metadata": {},
   "source": [
    "Vérification avec le calcul de l'épaisseur du sondage."
   ]
  },
  {
   "cell_type": "code",
   "execution_count": null,
   "metadata": {},
   "outputs": [],
   "source": [
    "T2=np.array(T)+273.15\n",
    "p2=np.array(p)\n",
    "dz=deltaz(T2,p2)\n",
    "p0=np.array(p[0]).astype(int)\n",
    "p1=np.array(p[-1]).astype(int)\n",
    "print('Epaisseur (en mètres) du sondage '+str(p0)+'-'+str(p1)+' hPa :', dz)"
   ]
  },
  {
   "cell_type": "raw",
   "metadata": {},
   "source": [
    "Vérification avec la fonction \"thickness_hydrostatic\" de la bibliothèque calc de Metpy."
   ]
  },
  {
   "cell_type": "markdown",
   "metadata": {},
   "source": [
    "https://unidata.github.io/MetPy/latest/api/generated/metpy.calc.thickness_hydrostatic.html"
   ]
  },
  {
   "cell_type": "code",
   "execution_count": null,
   "metadata": {},
   "outputs": [],
   "source": [
    "rh=mpcalc.relative_humidity_from_dewpoint(T, Td)\n",
    "r=mpcalc.mixing_ratio_from_relative_humidity(p, T, rh)\n",
    "\n",
    "\n",
    "thickness=mpcalc.thickness_hydrostatic(p, T, r)\n",
    "print('Epaisseur du sondage '+str(p0)+'-'+str(p1)+' hPa :', thickness)"
   ]
  },
  {
   "cell_type": "markdown",
   "metadata": {},
   "source": [
    "# Mesure de l'humidité\n",
    "------------\n",
    "\n",
    "Calculs effectués grâce aux fonctions de la bibliothèque calc de Metpy :\n",
    "https://unidata.github.io/MetPy/latest/api/generated/metpy.calc.html\n",
    "\n",
    "- Humidité relative (hygrométrie) : rapport de la pression partielle de la vapeur d'eau sur la pression de vapeur saturante à la même température : $$rh = \\frac{e(T_d)}{e_s(T)}$$\n",
    "- Humidité spécifique : mesure de l'humidité absolue. Rapport de la masse de vapeur d'eau sur la masse d'air humide. À ne pas confondre avec le rapport de mélange, qui est le rapport de la masse de vapeur d'eau sur la masse d'air sec : $$q  = \\frac{0.622 e}{p-0.378 e}$$\n",
    "- Rapport de mélange : mesure de l'humidité absolue. Rapport de la masse de vapeur d'eau sur la masse d'air sec : $$r = (rh)(r_s)$$ $$r = \\frac{q}{1-q}$$\n",
    "- Eau précipitable : intégrale verticale de l'humidité spécifique : $$-\\frac{1}{\\rho_l g} \\int\\limits_{p_\\text{bottom}}^{p_\\text{top}} q dp$$"
   ]
  },
  {
   "cell_type": "raw",
   "metadata": {},
   "source": [
    "Calcul de l'eau précipitable. Mettre à False si vous constatez un bug lié à une ancienne version de Metpy."
   ]
  },
  {
   "cell_type": "code",
   "execution_count": null,
   "metadata": {},
   "outputs": [],
   "source": [
    "pw_calc=True"
   ]
  },
  {
   "cell_type": "raw",
   "metadata": {},
   "source": [
    "Diagnostics liés à l'humidité."
   ]
  },
  {
   "cell_type": "code",
   "execution_count": null,
   "metadata": {
    "scrolled": false
   },
   "outputs": [],
   "source": [
    "rh=mpcalc.relative_humidity_from_dewpoint(T, Td)\n",
    "print('Humidité relative (%)')\n",
    "print(np.array(rh)*100)\n",
    "print('*******************')\n",
    "\n",
    "q=mpcalc.specific_humidity_from_dewpoint(p, Td)\n",
    "print('Humidité specifique ((g/kg)')\n",
    "print(np.array(q)*1000)\n",
    "print('*******************')\n",
    "\n",
    "#r=mpcalc.mixing_ratio_from_relative_humidity(rh, T, p) # old Metpy\n",
    "r=mpcalc.mixing_ratio_from_relative_humidity(p, T, rh)\n",
    "print(\"Rapport de mélange à partir de l'humidité relative (g/kg)\")\n",
    "print(np.array(r)*1000)\n",
    "print('*******************')\n",
    "\n",
    "r2=mpcalc.mixing_ratio_from_specific_humidity(q)\n",
    "print(\"Rapport de mélange à partir de l'humidité spécifique (g/kg)\")\n",
    "print(np.array(r2)*1000)\n",
    "print('*******************')\n",
    "\n",
    "if pw_calc:\n",
    "    pw=mpcalc.precipitable_water(p, Td)\n",
    "    print('Eau précipitable (mm)')\n",
    "    print(np.array(pw))\n",
    "    print('*******************')"
   ]
  },
  {
   "cell_type": "markdown",
   "metadata": {},
   "source": [
    "# Calculs de températures\n",
    "------------\n",
    "\n",
    "Calculs effectués grâce aux fonctions de la bibliothèque calc de Metpy :\n",
    "https://unidata.github.io/MetPy/latest/api/generated/metpy.calc.html\n",
    "\n",
    "- Température virtuelle : température qu'aurait une particule d'air sec qui possèderait la même masse volumique et la même pression qu'une particule d'air humide. L'air humide étant plus léger que l'air sec à la même pression et température, l'air humide a donc une température virtuelle plus élevée que l'air sec : $$T_v = T \\frac{1 + 1.608\\text{r}}{1 + \\text{r}}$$\n",
    "- Température du thermomètre mouillé : température d'une particule si on évapore l'eau liquide jusqu'à saturation à pression constante. La différence entre la température du thermomètre mouillé et la température et d'autant plus faible que l'hygrométrie de l'air est élevée : $$T_w$$\n",
    "<img src=\"normand.gif\" alt=\"drawing\" width=\"200\"/>\n",
    "- Température potentielle : température qu'aurait la particule si on la déplace adiabatiquement au niveau de pression de référence 1000hPa. La température potentielle permet de comparer des particules d'air provenant d'altitudes différentes : $$\\Theta = T (P_0 / P)^\\kappa$$\n",
    "- Température potentielle virtuelle : température potentielle qu'aurait de l'air sec qui possèderait la même masse volumique et la même pression que l'air humide (on l'utilise parfois pour remplacer la masse volumique dans les calculs de la flotabilité) : $$\\Theta_v = \\Theta \\frac{\\text{w} + \\epsilon}{\\epsilon\\,(1 + \\text{w})}$$\n",
    "- Température potentielle équivalente : température d'une particule d'air à laquelle on aurait enlevé toute sa vapeur d'eau par un processus adiabatique et qu'on aurait ramené au niveau de pression de référence 1000hPa. La température potentielle équivalente permet de comparer des particules d'air ayant différents contenus en vapeur d'eau et provenant d'altitudes différentes : $$T_{L}=\\frac{1}{\\frac{1}{T_{D}-56}+\\frac{ln(T_{K}/T_{D})}{800}}+56$$ $$\\theta_{DL}=T_{K}\\left(\\frac{1000}{p-e}\\right)^k\n",
    "\\left(\\frac{T_{K}}{T_{L}}\\right)^{.28r}$$ $$\\theta_{E}=\\theta_{DL}\\exp\\left[\\left(\\frac{3036.}{T_{L}}\n",
    "-1.78\\right)*r(1+.448r)\\right]$$"
   ]
  },
  {
   "cell_type": "raw",
   "metadata": {},
   "source": [
    "Diagnostics de diverses températures."
   ]
  },
  {
   "cell_type": "code",
   "execution_count": null,
   "metadata": {
    "scrolled": false
   },
   "outputs": [],
   "source": [
    "Tv=mpcalc.virtual_temperature(T, r)\n",
    "print('Temperature virtuelle (°C)')\n",
    "print(np.array(Tv)-273.15)\n",
    "print('*******************')\n",
    "\n",
    "Tw=mpcalc.wet_bulb_temperature(p, T, Td)\n",
    "print('Temperature du thermomètre mouillé (°C)')\n",
    "print(np.array(Tw))\n",
    "print('*******************')\n",
    "\n",
    "theta=mpcalc.potential_temperature(p, T)\n",
    "print('Temperature potentielle (°C)')\n",
    "print(np.array(theta)-273.15)\n",
    "print('*******************')\n",
    "\n",
    "thetav=mpcalc.virtual_potential_temperature(p, T, r)\n",
    "print('Temperature potentielle virtuelle (°C)')\n",
    "print(np.array(thetav)-273.15)\n",
    "print('*******************')\n",
    "\n",
    "thetae=mpcalc.equivalent_potential_temperature(p, T, Td)\n",
    "print('Temperature potentielle équivalente (°C)')\n",
    "print(np.array(thetae)-273.15)\n",
    "print('*******************')"
   ]
  },
  {
   "cell_type": "markdown",
   "metadata": {},
   "source": [
    "# Tracé du radiosondage sur l'émagramme\n",
    "---------------------\n",
    "\n",
    "Axe x : isothermes (angle de 45° avec les horizontales figurant des lignes isobares)\n",
    "Axe y : isobares (échelle log)\n",
    "\n",
    "1. Création d'un objet ``SkewT`` et spécification de l'angle entre isothermes et isobares\n",
    "2. Tracé de la courbe d'état (P, T) en noir.\n",
    "3. Tracé de la courbe des points de rosée (P, Td) : en orange\n",
    "4. Tracé de la courbe de température du thermomètre mouillé (courbe bleue) (P, Tw) en bleu\n",
    "5. Tracé de l'isotherme 0°C en cyan\n",
    "6. Tracé des adiabatiques sèches (iso-θ) en vert\n",
    "7. Tracé des adiabatiques humides (pseudo-adiabatiques saturées) en vert et des lignes d'égal rapport de mélange saturant en marron."
   ]
  },
  {
   "cell_type": "code",
   "execution_count": null,
   "metadata": {},
   "outputs": [],
   "source": [
    "fig = plt.figure(figsize=(9, 12))\n",
    "\n",
    "skew = SkewT(fig, rotation=45)\n",
    "\n",
    "skew.plot(p, T, 'black', linewidth=2)\n",
    "skew.plot(p, Td, 'orange', linewidth=2)\n",
    "skew.plot(p, Tw, 'blue', linewidth=2)\n",
    "\n",
    "skew.ax.set_ylim(1020, 100)\n",
    "skew.ax.set_xlim(-30, 40)\n",
    "\n",
    "skew.ax.axvline(0, color='cyan', linestyle='--', linewidth=2)\n",
    "skew.plot_dry_adiabats(colors='green', linestyle='-')\n",
    "skew.plot_moist_adiabats(colors='green', linestyle='--')\n",
    "skew.plot_mixing_lines(colors='brown', linestyle='--')\n",
    "\n",
    "plt.show()\n",
    "\n",
    "fig.savefig('sounding1.png')"
   ]
  },
  {
   "cell_type": "markdown",
   "metadata": {},
   "source": [
    "# Diagnostics associés à la stabilité pour une particule issue de la base du sondage\n",
    "\n",
    "Fonctionnalités de la bibliothèque calc de Metpy\n",
    "\n",
    "- LCL = Lifting Condensation Level : niveau de condensation\n",
    "- LFC = Level of Free Convection : niveau de convection libre\n",
    "- LNB (EL) = Level of Neutral Buoyancy, Equilibrium Level : niveau de flottabilité neutre\n",
    "- CAPE = Convective Available Potential Energy : énergie potentielle convective susceptible d’être transformée en énergie cinétique dans les mouvements ascendants\n",
    "- CIN = Convection INhibition : énergie qu’il faut fournir à la particule pour qu’elle atteigne le niveau de convection libre"
   ]
  },
  {
   "cell_type": "code",
   "execution_count": null,
   "metadata": {},
   "outputs": [],
   "source": [
    "# Calculate the parcel profile.\n",
    "parcel_prof = mpcalc.parcel_profile(p, T[0], Td[0]).to('degC')\n",
    "\n",
    "# Calculate the LCL\n",
    "lcl_pressure, lcl_temperature = mpcalc.lcl(p[0], T[0], Td[0])\n",
    "print('Point de condensation')\n",
    "print(lcl_pressure, lcl_temperature)\n",
    "print('*******************')\n",
    "\n",
    "# Calculate the LFC\n",
    "lfc_pt = mpcalc.lfc(p, T, Td, parcel_prof)\n",
    "print('Niveau de convection libre')\n",
    "print(lfc_pt)\n",
    "print('*******************')\n",
    "\n",
    "# Calculate the EL (LNB)\n",
    "el_pressure, el_temperature = mpcalc.el(p, T, Td, parcel_prof)\n",
    "print('Niveau de flottabilité neutre')\n",
    "print(el_pressure, el_temperature)\n",
    "print('*******************')\n",
    "\n",
    "# Calculate CAPEs CINs\n",
    "cape, cin = mpcalc.cape_cin(p, T, Td, parcel_prof)\n",
    "print('CAPE')\n",
    "print(cape)\n",
    "print('*******************')\n",
    "print('CIN')\n",
    "print(cin)"
   ]
  },
  {
   "cell_type": "markdown",
   "metadata": {},
   "source": [
    "# Analyse de la stabilité sur l'émagramme\n",
    "\n",
    "- LCL : point noir.\n",
    "- LFC : point rouge.\n",
    "- LNB : point vert.\n",
    "- CAPE : aire en rouge.\n",
    "- CIN : aire en bleu."
   ]
  },
  {
   "cell_type": "code",
   "execution_count": null,
   "metadata": {},
   "outputs": [],
   "source": [
    "fig = plt.figure(figsize=(9, 12))\n",
    "\n",
    "skew = SkewT(fig, rotation=45)\n",
    "\n",
    "skew.plot(p, T, 'black')\n",
    "skew.plot(p, Tw, 'blue')\n",
    "skew.ax.set_ylim(1020, 100)\n",
    "skew.ax.set_xlim(-30, 40)\n",
    "\n",
    "skew.plot(lcl_pressure, lcl_temperature, 'ko', markerfacecolor='black')\n",
    "skew.plot(el_pressure, el_temperature, 'ko', markerfacecolor='green')\n",
    "skew.plot(lfc_pt[0],lfc_pt[1], 'ko', markerfacecolor='brown')\n",
    "skew.plot(p, parcel_prof, 'red', linewidth=2)\n",
    "skew.shade_cin(p, T, parcel_prof)\n",
    "skew.shade_cape(p, T, parcel_prof)\n",
    "skew.ax.axvline(0, color='c', linestyle='--', linewidth=2)\n",
    "skew.plot_dry_adiabats(colors='green', linestyle='-')\n",
    "skew.plot_moist_adiabats(colors='green', linestyle='--')\n",
    "skew.plot_mixing_lines(colors='brown', linestyle='--')\n",
    "\n",
    "plt.show()\n",
    "\n",
    "fig.savefig('sounding2.png')"
   ]
  },
  {
   "cell_type": "markdown",
   "metadata": {},
   "source": [
    "# Diagnostics associés à la stabilité pour la particule la plus instable\n",
    "\n",
    "Comme précédemment mais pour la particule la plus instable sur le profil."
   ]
  },
  {
   "cell_type": "code",
   "execution_count": null,
   "metadata": {},
   "outputs": [],
   "source": [
    "# Locate the most unstable parcel\n",
    "mu_pressure, mu_temperature, mu_td, mu_index = mpcalc.most_unstable_parcel(p, T, Td)\n",
    "print('Particule la plus instable')\n",
    "print(mu_pressure, mu_temperature)\n",
    "print('*******************')\n",
    "\n",
    "# Calculate the most unstable parcel profile.\n",
    "muparcel_prof = mpcalc.parcel_profile(p[mu_index:], T[mu_index], Td[mu_index]).to('degC')\n",
    "\n",
    "# Calculate the LCL of most instable parcel\n",
    "mulcl_pressure, mulcl_temperature = mpcalc.lcl(p[mu_index], T[mu_index], Td[mu_index])\n",
    "print('Particule la plus instable : point de condensation')\n",
    "print(mulcl_pressure, mulcl_temperature)\n",
    "print('*******************')\n",
    "\n",
    "# Calculate the LFC of MUP\n",
    "mulfc_pt = mpcalc.lfc(p[mu_index:], T[mu_index:], Td[mu_index:], muparcel_prof)\n",
    "print('Particule la plus instable : niveau de convection libre')\n",
    "print(mulfc_pt)\n",
    "print('*******************')\n",
    "\n",
    "# Calculate the MUEL (LNB)\n",
    "muel_pressure, muel_temperature = mpcalc.el(p[mu_index:], T[mu_index:], Td[mu_index:], muparcel_prof)\n",
    "print('Particule la plus instable : niveau de flottabilité neutre')\n",
    "print(muel_pressure, muel_temperature)\n",
    "print('*******************')\n",
    "\n",
    "# Calculate MUCAPE MUCIN\n",
    "#mucape, mucin = mpcalc.most_unstable_cape_cin(p[mu_index:], T[mu_index:], Td[mu_index:])\n",
    "mucape, mucin = mpcalc.most_unstable_cape_cin(p, T, Td)\n",
    "print('CAPE de la particule la plus instable')\n",
    "print(mucape)\n",
    "print('*******************')\n",
    "print('CIN de la particule la plus instable')\n",
    "print(mucin)\n",
    "\n",
    "# Calculate Mixed layer CAPE/CIN\n",
    "mlcape, mlcin = mpcalc.mixed_layer_cape_cin(p, T, Td)\n",
    "print('Mixed layer CAPE')\n",
    "print(mlcape)\n",
    "print('*******************')\n",
    "print('Mixed layer CIN')\n",
    "print(mlcin)"
   ]
  },
  {
   "cell_type": "markdown",
   "metadata": {},
   "source": [
    "# Analyse de la stabilité sur l'émagramme\n",
    "\n",
    "Comme précédemment mais pour la particule la plus instable sur le profil (repérée par un point jaune)."
   ]
  },
  {
   "cell_type": "code",
   "execution_count": null,
   "metadata": {},
   "outputs": [],
   "source": [
    "fig = plt.figure(figsize=(9, 12))\n",
    "\n",
    "skew = SkewT(fig, rotation=45)\n",
    "\n",
    "skew.plot(p, T, 'black')\n",
    "skew.plot(p, Tw, 'blue')\n",
    "skew.ax.set_ylim(1000, 100)\n",
    "skew.ax.set_xlim(-30, 40)\n",
    "\n",
    "skew.plot(mu_pressure, mu_temperature, 'ko', markerfacecolor='yellow')\n",
    "skew.plot(mulcl_pressure, mulcl_temperature, 'ko', markerfacecolor='black')\n",
    "skew.plot(muel_pressure, muel_temperature, 'ko', markerfacecolor='green')\n",
    "skew.plot(mulfc_pt[0],mulfc_pt[1], 'ko', markerfacecolor='brown')\n",
    "skew.plot(p[mu_index:], muparcel_prof, 'red', linewidth=2)\n",
    "skew.shade_cin(p[mu_index:], T[mu_index:], muparcel_prof)\n",
    "skew.shade_cape(p[mu_index:], T[mu_index:], muparcel_prof)\n",
    "skew.ax.axvline(0, color='c', linestyle='--', linewidth=2)\n",
    "\n",
    "skew.plot_dry_adiabats(colors='green', linestyle='-')\n",
    "skew.plot_moist_adiabats(colors='green', linestyle='--')\n",
    "skew.plot_mixing_lines(colors='brown', linestyle='--')\n",
    "\n",
    "plt.show()\n",
    "\n",
    "fig.savefig('sounding3.png')"
   ]
  },
  {
   "cell_type": "markdown",
   "metadata": {},
   "source": [
    "# Pour aller plus loin : exploitation du profil vertical de vent"
   ]
  },
  {
   "cell_type": "raw",
   "metadata": {},
   "source": [
    "Ouverture du fichier de départ (sounding.txt).On lit cette fois-ci les données de pression (p) température (T), température du point de rosée (Td), direction et force du vent. On convertit direction et force du vent en composantes zonale et méridienne du vent (fonction wind_components de la bibliothèque Metpy)."
   ]
  },
  {
   "cell_type": "code",
   "execution_count": null,
   "metadata": {},
   "outputs": [],
   "source": [
    "col_names = ['pressure', 'temperature', 'dewpoint', 'direction', 'speed']\n",
    "\n",
    "df = pd.read_fwf('sounding.txt',\n",
    "                 skiprows=4, usecols=[0, 1, 2, 3, 4], names=col_names)\n",
    "df = df.dropna(subset=('temperature', 'dewpoint', 'direction', 'speed'), how='all').reset_index(drop=True)\n",
    "\n",
    "p = df['pressure'].values * units.hPa\n",
    "T = df['temperature'].values * units.degC\n",
    "Td = df['dewpoint'].values * units.degC\n",
    "Tw = mpcalc.wet_bulb_temperature(p, T, Td)\n",
    "wind_speed = df['speed'].values * units.knots\n",
    "wind_dir = df['direction'].values * units.degrees\n",
    "u, v = mpcalc.wind_components(wind_speed, wind_dir)\n",
    "\n",
    "print(df)\n",
    "print(\"Vent zonal : \",u)\n",
    "print(\"Vent méridien : \",v)"
   ]
  },
  {
   "cell_type": "raw",
   "metadata": {},
   "source": [
    "Calculs thermodynamiques."
   ]
  },
  {
   "cell_type": "code",
   "execution_count": null,
   "metadata": {},
   "outputs": [],
   "source": [
    "# Calculate the parcel profile.\n",
    "parcel_prof = mpcalc.parcel_profile(p, T[0], Td[0]).to('degC')\n",
    "# Calculate the LCL\n",
    "lcl_pressure, lcl_temperature = mpcalc.lcl(p[0], T[0], Td[0])\n",
    "# Calculate the LFC\n",
    "lfc_pt = mpcalc.lfc(p, T, Td, parcel_prof)\n",
    "# Calculate the EL (LNB)\n",
    "el_pressure, el_temperature = mpcalc.el(p, T, Td, parcel_prof)\n",
    "# Calculate CAPEs CINs\n",
    "cape, cin = mpcalc.cape_cin(p, T, Td, parcel_prof)"
   ]
  },
  {
   "cell_type": "raw",
   "metadata": {},
   "source": [
    "Tracé du radiosondage avec ajout des données du vent en barbules."
   ]
  },
  {
   "cell_type": "code",
   "execution_count": null,
   "metadata": {},
   "outputs": [],
   "source": [
    "fig = plt.figure(figsize=(9, 12))\n",
    "\n",
    "skew = SkewT(fig, rotation=45)\n",
    "skew.plot(p, T, 'black')\n",
    "skew.plot(p, Tw, 'blue')\n",
    "skew.plot_barbs(p, u, v)\n",
    "skew.ax.set_ylim(1020, 100)\n",
    "skew.ax.set_xlim(-30, 40)\n",
    "\n",
    "skew.plot(lcl_pressure, lcl_temperature, 'ko', markerfacecolor='black')\n",
    "skew.plot(el_pressure, el_temperature, 'ko', markerfacecolor='green')\n",
    "skew.plot(lfc_pt[0],lfc_pt[1], 'ko', markerfacecolor='brown')\n",
    "skew.plot(p, parcel_prof, 'red', linewidth=2)\n",
    "skew.shade_cin(p, T, parcel_prof)\n",
    "skew.shade_cape(p, T, parcel_prof)\n",
    "skew.ax.axvline(0, color='c', linestyle='--', linewidth=2)\n",
    "\n",
    "skew.plot_dry_adiabats(colors='green', linestyle='-')\n",
    "skew.plot_moist_adiabats(colors='green', linestyle='--')\n",
    "skew.plot_mixing_lines(colors='brown', linestyle='--')\n",
    "\n",
    "plt.show()\n",
    "\n",
    "fig.savefig('sounding4.png')"
   ]
  },
  {
   "cell_type": "raw",
   "metadata": {},
   "source": [
    "Tracé de l'hodographe."
   ]
  },
  {
   "cell_type": "markdown",
   "metadata": {},
   "source": [
    "L'**hodographe** est un outil très pratique qui permet d'étudier la variation du vent sur la verticale (cisaillement de vent), ingrédient très important dans la structuration de la convection profonde. L'hodograpne est tracé dans en géométrie polaire où les anneaux (lignes à rayon constant) représentent la vitesse du vent et l'angle indique la roses des vents (direction). On trace les vecteurs vent en commençant à partir du centre du domaine et on relie leurs sommets entre eux."
   ]
  },
  {
   "cell_type": "code",
   "execution_count": null,
   "metadata": {},
   "outputs": [],
   "source": [
    "fig, ax = plt.subplots(1, 1, figsize=(6, 6))\n",
    "\n",
    "h = Hodograph(ax, component_range=80.)\n",
    "h.add_grid(increment=20)\n",
    "h.wind_vectors(u, v)\n",
    "norm, cmap = colortables.get_with_range('ir_rgbv', np.nanmin(wind_speed.m),\n",
    "                                        np.nanmax(wind_speed.m))\n",
    "h.plot_colormapped(u, v, wind_speed,cmap=cmap, norm=norm)\n",
    "#h.plot(u, v)\n",
    "\n",
    "plt.show()\n",
    "\n",
    "fig.savefig('hodograph.png')"
   ]
  },
  {
   "cell_type": "raw",
   "metadata": {},
   "source": [
    "Tracé du radiosondage et de l'hodographe sur le même graphique."
   ]
  },
  {
   "cell_type": "code",
   "execution_count": null,
   "metadata": {},
   "outputs": [],
   "source": [
    "fig = plt.figure(figsize=(12, 12))\n",
    "gs = gridspec.GridSpec(3, 3)\n",
    "\n",
    "skew = SkewT(fig, rotation=45, subplot=gs[:, :2])\n",
    "skew.plot(p, T, 'black')\n",
    "skew.plot(p, Tw, 'blue')\n",
    "skew.plot_barbs(p, u, v)\n",
    "skew.ax.set_ylim(1020, 100)\n",
    "skew.ax.set_xlim(-30, 40)\n",
    "\n",
    "skew.plot(lcl_pressure, lcl_temperature, 'ko', markerfacecolor='black')\n",
    "skew.plot(el_pressure, el_temperature, 'ko', markerfacecolor='green')\n",
    "skew.plot(lfc_pt[0],lfc_pt[1], 'ko', markerfacecolor='brown')\n",
    "skew.plot(p, parcel_prof, 'red', linewidth=2)\n",
    "skew.shade_cin(p, T, parcel_prof)\n",
    "skew.shade_cape(p, T, parcel_prof)\n",
    "skew.ax.axvline(0, color='c', linestyle='--', linewidth=2)\n",
    "\n",
    "skew.plot_dry_adiabats(colors='green', linestyle='-')\n",
    "skew.plot_moist_adiabats(colors='green', linestyle='--')\n",
    "skew.plot_mixing_lines(colors='brown', linestyle='--')\n",
    "\n",
    "# Create a hodograph\n",
    "ax = fig.add_subplot(gs[0, -1])\n",
    "h = Hodograph(ax, component_range=80.)\n",
    "h.add_grid(increment=20)\n",
    "#h.plot_colormapped(u, v, wind_speed)  # Plot a line colored by wind speed\n",
    "norm, cmap = colortables.get_with_range('ir_rgbv', np.nanmin(wind_speed.m),\n",
    "                                        np.nanmax(wind_speed.m))\n",
    "\n",
    "h.plot_colormapped(u, v, wind_speed,cmap=cmap, norm=norm)\n",
    "#h.plot(u, v)\n",
    "\n",
    "plt.show()\n",
    "\n",
    "fig.savefig('sounding5.png')"
   ]
  },
  {
   "cell_type": "markdown",
   "metadata": {},
   "source": [
    "# Radiosondages dans le monde"
   ]
  },
  {
   "cell_type": "markdown",
   "metadata": {},
   "source": [
    "<div class=\"alert alert-warning\">\n",
    "<p><b>1) </b>Se rendre sur le site suivant : http://weather.uwyo.edu/upperair/sounding.html</p>\n",
    "<p><b>2) </b>Télécharger un fichier de radiosondage</p>\n",
    "<p><b>3) </b>Editer éventuellement le fichier pour qu'il puisse être lu correctement en Python</p>\n",
    "<p><b>4) </b>Tracer l'émmagramme en s'inspirant des codes précédents.</p>\n",
    "</div>"
   ]
  },
  {
   "cell_type": "code",
   "execution_count": null,
   "metadata": {
    "scrolled": false
   },
   "outputs": [],
   "source": []
  },
  {
   "cell_type": "code",
   "execution_count": null,
   "metadata": {},
   "outputs": [],
   "source": []
  }
 ],
 "metadata": {
  "kernelspec": {
   "display_name": "Python 3",
   "language": "python",
   "name": "python3"
  },
  "language_info": {
   "codemirror_mode": {
    "name": "ipython",
    "version": 3
   },
   "file_extension": ".py",
   "mimetype": "text/x-python",
   "name": "python",
   "nbconvert_exporter": "python",
   "pygments_lexer": "ipython3",
   "version": "3.7.11"
  }
 },
 "nbformat": 4,
 "nbformat_minor": 1
}
